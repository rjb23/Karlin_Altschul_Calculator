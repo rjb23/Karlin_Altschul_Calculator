{
 "cells": [
  {
   "cell_type": "code",
   "execution_count": 1,
   "id": "f97fd9f7-703c-42c3-8894-4ada5691530d",
   "metadata": {},
   "outputs": [],
   "source": [
    "# Karlin-Altschul P-value & E-value Calculator (Jupyter Notebook Version)\n",
    "\n",
    "import math\n",
    "\n",
    "# Function to safely get positive float input\n",
    "def get_positive_float(prompt):\n",
    "    while True:\n",
    "        try:\n",
    "            value = float(input(prompt).strip())\n",
    "            if value <= 0:\n",
    "                print(\"Value must be positive. Please try again.\")\n",
    "            else:\n",
    "                return value\n",
    "        except ValueError:\n",
    "            print(\"Invalid input. Please enter a number.\")\n",
    "\n",
    "# Main function for Karlin-Altschul calculation\n",
    "def karlin_altschul():\n",
    "    print(\"\\n===== Karlin-Altschul P-value & E-value Calculator =====\")\n",
    "\n",
    "    while True:\n",
    "        # Collect inputs\n",
    "        K = get_positive_float(\"Enter K (Karlin-Altschul constant, e.g., 0.1): \")\n",
    "        M = get_positive_float(\"Enter M (length of query sequence, e.g., 8): \")\n",
    "        N = get_positive_float(\"Enter N (length of subject sequence, e.g., 12): \")\n",
    "        lam = get_positive_float(\"Enter lambda (scaling factor, e.g., 0.693): \")\n",
    "        S = get_positive_float(\"Enter alignment score S (e.g., 8): \")\n",
    "\n",
    "        try:\n",
    "            # Step 1: Calculate exponent term\n",
    "            exp_term = math.exp(-lam * S)\n",
    "\n",
    "            # Step 2: Calculate product K * M * N\n",
    "            kmn = K * M * N\n",
    "\n",
    "            # Step 3: Calculate expected number of matches (E-value)\n",
    "            e_value = kmn * exp_term\n",
    "\n",
    "            # Step 4: Calculate P-value\n",
    "            p_value = 1 - math.exp(-e_value)\n",
    "\n",
    "            # Display results\n",
    "            print(\"\\n--- Karlin-Altschul Calculation Results ---\")\n",
    "            print(f\"K × M × N = {kmn:.6f}\")\n",
    "            print(f\"Exponent term e^(-λ × S) = {exp_term:.6f}\")\n",
    "            print(f\"E-value = {e_value:.6f}\")\n",
    "            print(f\"P-value = {p_value:.6f}\")\n",
    "\n",
    "        except OverflowError:\n",
    "            print(\"Calculation error: numerical overflow. Try smaller values.\")\n",
    "\n",
    "        again = input(\"\\nWould you like to perform another calculation? (yes/no): \").strip().lower()\n",
    "        if again != 'yes':\n",
    "            print(\"Exiting the calculator. Goodbye!\")\n",
    "            break"
   ]
  },
  {
   "cell_type": "code",
   "execution_count": null,
   "id": "46474e00-13b3-48ce-9a0c-741ffb386675",
   "metadata": {},
   "outputs": [
    {
     "name": "stdout",
     "output_type": "stream",
     "text": [
      "\n",
      "===== Karlin-Altschul P-value & E-value Calculator =====\n"
     ]
    },
    {
     "name": "stdin",
     "output_type": "stream",
     "text": [
      "Enter K (Karlin-Altschul constant, e.g., 0.1):  0.1\n",
      "Enter M (length of query sequence, e.g., 8):  8\n",
      "Enter N (length of subject sequence, e.g., 12):  12\n",
      "Enter lambda (scaling factor, e.g., 0.693):  0.693\n",
      "Enter alignment score S (e.g., 8):  8\n"
     ]
    },
    {
     "name": "stdout",
     "output_type": "stream",
     "text": [
      "\n",
      "--- Karlin-Altschul Calculation Results ---\n",
      "K × M × N = 9.600000\n",
      "Exponent term e^(-λ × S) = 0.003911\n",
      "E-value = 0.037544\n",
      "P-value = 0.036848\n"
     ]
    }
   ],
   "source": [
    "karlin_altschul()"
   ]
  },
  {
   "cell_type": "code",
   "execution_count": null,
   "id": "04a52fb2-829e-40e3-b67e-a957af6f5202",
   "metadata": {},
   "outputs": [],
   "source": []
  }
 ],
 "metadata": {
  "kernelspec": {
   "display_name": "Python 3 (ipykernel)",
   "language": "python",
   "name": "python3"
  },
  "language_info": {
   "codemirror_mode": {
    "name": "ipython",
    "version": 3
   },
   "file_extension": ".py",
   "mimetype": "text/x-python",
   "name": "python",
   "nbconvert_exporter": "python",
   "pygments_lexer": "ipython3",
   "version": "3.12.3"
  }
 },
 "nbformat": 4,
 "nbformat_minor": 5
}
